{
 "cells": [
  {
   "cell_type": "markdown",
   "metadata": {},
   "source": [
    "# ImpDAR Getting Started Tutorial\n",
    "\n",
    "Welcome to ImpDAR!\n",
    "This is an impulse radar processor that we in UW ESS are building for our ice-penetrating radar systems. However, the potential applications of this software are much more widespread. Our goal is to provide an alternative to the expensive commercial software that would be purchased with a ground-penetrating radar system from a company such as GSSI or Sensors and Software. We provide all of the processing tools that are needed to move from a raw data file to an interpretable image of the subsurface. Moreover, our software is agnostic to the system used, so we can import data from a variety of different ground-penetrating radar systems and interact with the data in the exact same way.\n",
    "\n",
    "You are running this Jupyter Notebook through a 'binder' where ImpDAR is installed, so you don't need to install anything locally on your machine. If, on the other hand, you want to get ImpDAR running locally, you can go to our github page (https://github.com/dlilien/ImpDAR) to clone the repository. \n",
    "\n",
    "The preferred pathway for interacting with ImpDAR is through the terminal. However, our API allows relatively easy access through other programs as well. Here, we want to walk you through the processing flow using a Jupyter Notebook, so all of the processing functions will be called through Python. No prior knowledge of Python is necessary.\n",
    "\n",
    "Using the Jupyter Notebook:\n",
    "- This format allows us to easily incorporate both explanatory text and python code.\n",
    "- Text and code can both be edited.\n",
    "- To run a code cell click inside it and either press the run button at the top or press ctrl+enter on your keyboard.\n",
    "- The cells are meant to be run in order. Having said that, nothing will stop you from running the lower cells first. If an error comes up make sure that you have loaded all the proper libraries from the cells above.\n",
    "- I encourage you to change a few of the coding cells. I generally write notes to the user with three ###, in some places telling you to change things and in others telling you not to. If you are familiar with Python feel free to change anything, even if it says not to.\n",
    "\n",
    "### Import the necessary libraries\n",
    "\n",
    "The very first thing to do with any Python script is to import all of the 'libraries' that will be used. These will allow us to call some lower level functions that help with loading scripts, some numerical issues, and plotting. Knowing exactly what each of these are is not important to understanding the radar processing flow. "
   ]
  },
  {
   "cell_type": "code",
   "execution_count": null,
   "metadata": {},
   "outputs": [],
   "source": [
    "### Don't Change ###\n",
    "\n",
    "# Standard Python Libraries\n",
    "import numpy as np\n",
    "import matplotlib.pyplot as plt\n",
    "plt.rcParams['figure.dpi'] = 300\n",
    "%matplotlib inline\n",
    "%config InlineBackend.figure_format = 'retina'"
   ]
  },
  {
   "cell_type": "markdown",
   "metadata": {},
   "source": [
    "### Load the raw data\n",
    "\n",
    "With the standard libraries loaded, we can now look at some radar data. These are data collected by Knut at the Northeast Greenland Ice Stream. We will talk a little bit more about exactly what we are looking at when we get to an image that you will be able to interpret. "
   ]
  },
  {
   "cell_type": "code",
   "execution_count": null,
   "metadata": {},
   "outputs": [],
   "source": [
    "### Don't Change ###\n",
    "\n",
    "# Impdar's loading function\n",
    "from impdar.lib import load\n",
    "\n",
    "# To look through files\n",
    "import glob\n",
    "\n",
    "# Look for the appropriate files and then load them as a data 'class'\n",
    "files = glob.glob('./impdar/tests/input_data/negis_example_data/*[!.gps]')\n",
    "dat = load.load('gecko',files)[0]\n",
    "\n",
    "# Plot the raw data\n",
    "plt.figure(figsize=(4,3))\n",
    "plt.imshow(dat.data,cmap='Greys',aspect='auto',vmin=-10,vmax=10)\n",
    "plt.ylabel('Sample Number')\n",
    "plt.xlabel('Trace Number')\n",
    "plt.tight_layout()\n",
    "plt.show()"
   ]
  },
  {
   "cell_type": "markdown",
   "metadata": {},
   "source": [
    "Yuck. Raw radar data are a mess. We can't really see anything meaningful here. \n",
    "\n",
    "In order to illustrate the first processing step, let's plot a single 'trace'. A radar trace is one collection of voltages measured by the oscilloscope through time. The total time for collection in this case is ~50 microseconds. "
   ]
  },
  {
   "cell_type": "code",
   "execution_count": null,
   "metadata": {},
   "outputs": [],
   "source": [
    "### Try changing the trace index to see whether they are similar or different ###\n",
    "### Make sure that you understand the relationship between this figure and above ###\n",
    "\n",
    "# Reload in case a lower cell gets run\n",
    "dat = load.load('gecko',files)[0]\n",
    "\n",
    "# Index the data to get one column from the matrix\n",
    "trace = dat.data[:,600]\n",
    "\n",
    "### Don't Change ###\n",
    "\n",
    "# Plot a new figure for the single trace\n",
    "plt.figure(figsize=(3,4))\n",
    "plt.plot(trace,dat.travel_time)\n",
    "plt.xlim(-5000,5000)\n",
    "plt.gca().invert_yaxis()\n",
    "plt.ylabel('Travel Time ($\\mu$ sec)')\n",
    "plt.xlabel('mV')\n",
    "plt.tight_layout()\n",
    "plt.show()"
   ]
  },
  {
   "cell_type": "markdown",
   "metadata": {},
   "source": [
    "## Bandpass filter\n",
    "\n",
    "The first big processing step is to isolate the frequency band of interest. The radar antennas set this frequency. In our case, the antennas are ~20 m long (frequency of 3 MHz) so we want to allow the frequency band from 1-5 MHz pass while damping all other frequencies (i.e. bandpass filter). \n",
    "\n",
    "This filter works on all the traces simultaneously, but to illustrate its effect we will plot the single trace again."
   ]
  },
  {
   "cell_type": "code",
   "execution_count": null,
   "metadata": {},
   "outputs": [],
   "source": [
    "### Change the frequency band here ###\n",
    "\n",
    "# Do the vertical bandpass filter from 1-5 MHz\n",
    "dat.vertical_band_pass(1,5)\n",
    "\n",
    "### Don't Change Below ###\n",
    "\n",
    "# Index the data to get one column from the matrix\n",
    "trace = dat.data[:,600]\n",
    "\n",
    "# Plot the trace\n",
    "plt.figure(figsize=(3,4))\n",
    "plt.plot(trace,dat.travel_time)\n",
    "plt.xlim(-100,100)\n",
    "plt.gca().invert_yaxis()\n",
    "plt.ylabel('Travel Time ($\\mu$ sec)')\n",
    "plt.xlabel('mV')\n",
    "plt.tight_layout()\n",
    "plt.show()"
   ]
  },
  {
   "cell_type": "markdown",
   "metadata": {},
   "source": [
    "Now plot the entire image again."
   ]
  },
  {
   "cell_type": "code",
   "execution_count": null,
   "metadata": {},
   "outputs": [],
   "source": [
    "# Plot all the bandpassed data\n",
    "plt.figure(figsize=(6,4))\n",
    "plt.imshow(dat.data,cmap='Greys',aspect='auto',vmin=-10,vmax=10,\n",
    "          extent=[0,dat.tnum,max(dat.travel_time),min(dat.travel_time)])\n",
    "plt.ylabel('Travel Time ($\\mu$ sec)')\n",
    "plt.xlabel('Trace Number')\n",
    "plt.tight_layout()\n",
    "plt.show()"
   ]
  },
  {
   "cell_type": "markdown",
   "metadata": {},
   "source": [
    "Some questions to check your understanding so far:\n",
    "- Describe the differences between the plotted trace before and after the bandpass filter.\n",
    "- Knowing how the 'bandpass' filter works, how would you describe a 'highpass' or a 'lowpass' filter?\n",
    "- We see a large return at ~30 microseconds. Knowing that the speed of light in ice is 169 million meters per second, what is the depth of this feature. What do you think it might be?\n",
    "\n",
    "### Geometric Corrections\n",
    "\n",
    "Now that the data actually look like something useful we can do a few more corrections to make it more physical. Two geometric corrections allow us to look at the image more like something under the surface instead of in this weird time dimension. First we crop out the 'pretrigger' which is data collected by the receiver before the radar pulse is actually transmitted. Second we do a 'normal move-out' correction (nmo) which corrects for the separation distance between the receiving and transmitting antennas."
   ]
  },
  {
   "cell_type": "code",
   "execution_count": null,
   "metadata": {},
   "outputs": [],
   "source": [
    "# Crop the pretrigger out from the top of each trace\n",
    "dat.crop(0,dimension='pretrig')\n",
    "# Do the normal move-out correction with antenna spacing 160 m\n",
    "dat.nmo(160)\n",
    "\n",
    "# Re-plot the image\n",
    "plt.figure(figsize=(6,4))\n",
    "plt.imshow(dat.data,cmap='Greys',aspect='auto',vmin=-10,vmax=10,\n",
    "          extent=[0,dat.tnum,max(dat.nmo_depth),min(dat.nmo_depth)])\n",
    "plt.ylabel('Depth (m)')\n",
    "plt.xlabel('Trace Number')\n",
    "plt.tight_layout()\n",
    "plt.show()"
   ]
  },
  {
   "cell_type": "markdown",
   "metadata": {},
   "source": [
    "### Georeferencing and Interpolation\n",
    "\n",
    "Up to now, everything has been plotted as 'trace number' in the horizontal. In reality though, we want to know where these were measured. Typically, these data are collected with some kind of GPS. Lets look at the lat/long data now."
   ]
  },
  {
   "cell_type": "code",
   "execution_count": null,
   "metadata": {},
   "outputs": [],
   "source": [
    "# Plot the profile's location in Lat-Long space\n",
    "plt.figure()\n",
    "plt.scatter(dat.long,dat.lat,c=dat.trace_num)\n",
    "plt.ylabel('Latitude')\n",
    "plt.xlabel('Longitude')\n",
    "plt.colorbar(label='Trace Number')\n",
    "plt.show()"
   ]
  },
  {
   "cell_type": "code",
   "execution_count": null,
   "metadata": {},
   "outputs": [],
   "source": [
    "# Convert from lat-long to x-y\n",
    "from impdar.lib.gpslib import get_utm_conversion\n",
    "transform = get_utm_conversion(np.nanmean(dat.lat),np.nanmean(dat.long))\n",
    "pts = np.array(transform(np.vstack((dat.long,dat.lat)).transpose()))\n",
    "x = pts[:,0]\n",
    "y = pts[:,1]\n",
    "\n",
    "# Calculate the cumulative distance travelled\n",
    "distance_travelled = np.insert(np.cumsum(np.sqrt((x[1:]-x[:-1])**2.+(y[1:]-y[:-1])**2.)),0,0)\n",
    "\n",
    "# Replot the points, now in x-y-distance\n",
    "plt.figure()\n",
    "plt.scatter(x,y,c=distance_travelled)\n",
    "plt.colorbar(label='Distance Travelled (m)')"
   ]
  },
  {
   "cell_type": "code",
   "execution_count": null,
   "metadata": {},
   "outputs": [],
   "source": [
    "# Plot the distance between traces\n",
    "plt.plot(np.gradient(distance_travelled))"
   ]
  },
  {
   "cell_type": "code",
   "execution_count": null,
   "metadata": {},
   "outputs": [],
   "source": [
    "# Interpolate onto equal trace spacing\n",
    "from impdar.lib.gpslib import interp\n",
    "interp([dat],5,guess_offset=False)\n",
    "\n",
    "# Plot the new trace spacing (should be uniform after interpolation)\n",
    "plt.figure()\n",
    "plt.plot(np.gradient(dat.dist))"
   ]
  },
  {
   "cell_type": "code",
   "execution_count": null,
   "metadata": {},
   "outputs": [],
   "source": [
    "# Plot the final figure\n",
    "plt.figure(figsize=(6,4))\n",
    "plt.imshow(dat.data,cmap='Greys',vmin=-10,vmax=10,aspect='auto',\n",
    "          extent=[min(dat.dist),max(dat.dist),max(dat.nmo_depth),min(dat.nmo_depth)])\n",
    "plt.ylabel('Depth (m)')\n",
    "plt.xlabel('Distance (km)')\n",
    "plt.tight_layout()\n",
    "plt.show()"
   ]
  },
  {
   "cell_type": "markdown",
   "metadata": {},
   "source": [
    "### Comments on additional processing steps\n",
    "\n",
    "- Denoising\n",
    "- Migration\n",
    "- Power corrections"
   ]
  },
  {
   "cell_type": "markdown",
   "metadata": {},
   "source": [
    "# ImpDAR Interpreter"
   ]
  },
  {
   "cell_type": "code",
   "execution_count": null,
   "metadata": {},
   "outputs": [],
   "source": [
    "#from impdar.bin.imppick import pick\n",
    "\n",
    "#pick(dat)"
   ]
  }
 ],
 "metadata": {
  "kernelspec": {
   "display_name": "Python 3",
   "language": "python",
   "name": "python3"
  },
  "language_info": {
   "codemirror_mode": {
    "name": "ipython",
    "version": 3
   },
   "file_extension": ".py",
   "mimetype": "text/x-python",
   "name": "python",
   "nbconvert_exporter": "python",
   "pygments_lexer": "ipython3",
   "version": "3.7.3"
  }
 },
 "nbformat": 4,
 "nbformat_minor": 2
}
